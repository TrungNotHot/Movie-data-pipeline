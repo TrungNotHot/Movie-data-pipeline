{
 "cells": [
  {
   "cell_type": "markdown",
   "metadata": {},
   "source": [
    "# Init SparkContext"
   ]
  },
  {
   "cell_type": "code",
   "execution_count": 1,
   "metadata": {},
   "outputs": [],
   "source": [
    "import os\n",
    "from datetime import datetime\n",
    "from pyspark.sql import SparkSession, SQLContext\n",
    "import pyspark.sql.functions as F\n",
    "from pyspark.sql.types import FloatType\n",
    "from pyspark.storagelevel import StorageLevel"
   ]
  },
  {
   "cell_type": "code",
   "execution_count": 2,
   "metadata": {},
   "outputs": [
    {
     "name": "stderr",
     "output_type": "stream",
     "text": [
      "/usr/local/spark/python/pyspark/sql/context.py:112: FutureWarning: Deprecated in 3.0.0. Use SparkSession.builder.getOrCreate() instead.\n",
      "  warnings.warn(\n"
     ]
    }
   ],
   "source": [
    "spark = (SparkSession.builder.appName(\"spark-101-{}\".format(datetime.today()))\n",
    "        .master(\"spark://spark-master:7077\")      \n",
    "        .getOrCreate())\n",
    "\n",
    "sqlContext = SQLContext(spark)"
   ]
  },
  {
   "cell_type": "code",
   "execution_count": 3,
   "metadata": {},
   "outputs": [
    {
     "data": {
      "text/html": [
       "\n",
       "        <div>\n",
       "            <p><b>SparkContext</b></p>\n",
       "\n",
       "            <p><a href=\"http://525d0cc176fb:4040\">Spark UI</a></p>\n",
       "\n",
       "            <dl>\n",
       "              <dt>Version</dt>\n",
       "                <dd><code>v3.3.3</code></dd>\n",
       "              <dt>Master</dt>\n",
       "                <dd><code>spark://spark-master:7077</code></dd>\n",
       "              <dt>AppName</dt>\n",
       "                <dd><code>spark-101-2023-09-08 03:33:39.507096</code></dd>\n",
       "            </dl>\n",
       "        </div>\n",
       "        "
      ],
      "text/plain": [
       "<SparkContext master=spark://spark-master:7077 appName=spark-101-2023-09-08 03:33:39.507096>"
      ]
     },
     "execution_count": 3,
     "metadata": {},
     "output_type": "execute_result"
    }
   ],
   "source": [
    "sc = spark.sparkContext\n",
    "sc"
   ]
  },
  {
   "cell_type": "markdown",
   "metadata": {},
   "source": [
    "# Reading CSV file"
   ]
  },
  {
   "cell_type": "code",
   "execution_count": 5,
   "metadata": {},
   "outputs": [],
   "source": [
    "base_path = \"s3a://warehouse/tpch_data\""
   ]
  },
  {
   "cell_type": "code",
   "execution_count": null,
   "metadata": {},
   "outputs": [],
   "source": [
    "%%time\n",
    "filename = \"h_lineitem.dsv\"\n",
    "\n",
    "df_lineitem = (\n",
    "    spark.read.option(\"delimiter\", \"|\")\n",
    "    .option(\"header\", True)\n",
    "    .option(\"inferSchema\" , True)\n",
    "    .csv(os.path.join(base_path, filename))\n",
    ")"
   ]
  },
  {
   "cell_type": "code",
   "execution_count": 6,
   "metadata": {},
   "outputs": [
    {
     "name": "stdout",
     "output_type": "stream",
     "text": [
      "root\n",
      " |-- L_ORDERKEY: integer (nullable = true)\n",
      " |-- L_PARTKEY: integer (nullable = true)\n",
      " |-- L_SUPPKEY: integer (nullable = true)\n",
      " |-- L_LINENUMBER: integer (nullable = true)\n",
      " |-- L_QUANTITY: integer (nullable = true)\n",
      " |-- L_EXTENDEDPRICE: string (nullable = true)\n",
      " |-- L_DISCOUNT: string (nullable = true)\n",
      " |-- L_TAX: string (nullable = true)\n",
      " |-- L_RETURNFLAG: string (nullable = true)\n",
      " |-- L_LINESTATUS: string (nullable = true)\n",
      " |-- L_SHIPDATE: string (nullable = true)\n",
      " |-- L_COMMITDATE: string (nullable = true)\n",
      " |-- L_RECEIPTDATE: string (nullable = true)\n",
      " |-- L_SHIPINSTRUCT: string (nullable = true)\n",
      " |-- L_SHIPMODE: string (nullable = true)\n",
      " |-- L_COMMENT: string (nullable = true)\n",
      "\n"
     ]
    }
   ],
   "source": [
    "df_lineitem.printSchema()"
   ]
  },
  {
   "cell_type": "markdown",
   "metadata": {},
   "source": [
    "# Writing parquet files"
   ]
  },
  {
   "cell_type": "code",
   "execution_count": 7,
   "metadata": {},
   "outputs": [
    {
     "data": {
      "text/plain": [
       "14"
      ]
     },
     "execution_count": 7,
     "metadata": {},
     "output_type": "execute_result"
    }
   ],
   "source": [
    "df_lineitem.rdd.getNumPartitions()"
   ]
  },
  {
   "cell_type": "code",
   "execution_count": 8,
   "metadata": {},
   "outputs": [],
   "source": [
    "table_name = \"h_lineitem\"\n",
    "output_path = os.path.join(base_path, \"parquet\", table_name)"
   ]
  },
  {
   "cell_type": "code",
   "execution_count": 9,
   "metadata": {},
   "outputs": [
    {
     "name": "stdout",
     "output_type": "stream",
     "text": [
      "CPU times: user 9.3 ms, sys: 3.11 ms, total: 12.4 ms\n",
      "Wall time: 40.3 s\n"
     ]
    }
   ],
   "source": [
    "%%time\n",
    "df_lineitem.write.parquet(output_path, mode=\"overwrite\")"
   ]
  },
  {
   "cell_type": "code",
   "execution_count": 10,
   "metadata": {},
   "outputs": [],
   "source": [
    "df_lineitem.repartition(5).write.parquet(output_path, mode=\"overwrite\")"
   ]
  },
  {
   "cell_type": "code",
   "execution_count": 11,
   "metadata": {},
   "outputs": [
    {
     "data": {
      "text/plain": [
       "5"
      ]
     },
     "execution_count": 11,
     "metadata": {},
     "output_type": "execute_result"
    }
   ],
   "source": [
    "df_lineitem_compressed = spark.read.parquet(output_path)\n",
    "df_lineitem_compressed.rdd.getNumPartitions()"
   ]
  },
  {
   "cell_type": "code",
   "execution_count": null,
   "metadata": {},
   "outputs": [],
   "source": []
  },
  {
   "cell_type": "markdown",
   "metadata": {},
   "source": [
    "# Writing JSON files"
   ]
  },
  {
   "cell_type": "code",
   "execution_count": 12,
   "metadata": {},
   "outputs": [
    {
     "name": "stdout",
     "output_type": "stream",
     "text": [
      "+----------+--------------------+---------+\n",
      "|L_ORDERKEY|               items|num_items|\n",
      "+----------+--------------------+---------+\n",
      "|   5999976|[4, 1, 7, 8, 6, 5...|        8|\n",
      "|     10180|[3, 5, 1, 6, 4, 2...|        7|\n",
      "|     10183|[7, 6, 5, 1, 3, 4...|        7|\n",
      "|     10342|[4, 1, 6, 2, 3, 7...|        7|\n",
      "|     10211|[5, 1, 4, 7, 3, 2...|        7|\n",
      "|     10184|[3, 5, 4, 7, 2, 1...|        7|\n",
      "|     10209|[2, 1, 7, 5, 4, 6...|        7|\n",
      "|     10210|[3, 5, 2, 6, 7, 1...|        7|\n",
      "|     10306|[2, 5, 7, 6, 3, 4...|        7|\n",
      "|     10215|[1, 5, 3, 7, 2, 6...|        7|\n",
      "|     10216|[5, 2, 4, 7, 6, 1...|        7|\n",
      "|     10241|[3, 7, 1, 2, 5, 4...|        7|\n",
      "|     10243|[1, 4, 7, 5, 3, 2...|        7|\n",
      "|     10247|[5, 1, 4, 6, 3, 2...|        7|\n",
      "|     10248|[2, 7, 4, 1, 3, 6...|        7|\n",
      "|     10276|[3, 4, 6, 5, 1, 2...|        7|\n",
      "|     10309|[2, 3, 6, 5, 7, 4...|        7|\n",
      "|     10310|[7, 1, 2, 4, 3, 6...|        7|\n",
      "|     10311|[6, 5, 2, 3, 1, 4...|        7|\n",
      "|     10338|[2, 5, 6, 1, 4, 3...|        7|\n",
      "+----------+--------------------+---------+\n",
      "only showing top 20 rows\n",
      "\n"
     ]
    }
   ],
   "source": [
    "df_semi_structure = (\n",
    "    df_lineitem_compressed.groupby(\"L_ORDERKEY\")\n",
    "    .agg(\n",
    "        F.collect_list(\"L_LINENUMBER\").alias(\"items\"),\n",
    "        F.count(\"L_LINENUMBER\").alias(\"num_items\"),\n",
    "    )\n",
    "    .orderBy(F.col(\"num_items\").desc())    \n",
    ")\n",
    "\n",
    "df_semi_structure.show()"
   ]
  },
  {
   "cell_type": "code",
   "execution_count": 13,
   "metadata": {},
   "outputs": [
    {
     "name": "stdout",
     "output_type": "stream",
     "text": [
      "root\n",
      " |-- L_ORDERKEY: integer (nullable = true)\n",
      " |-- items: array (nullable = false)\n",
      " |    |-- element: integer (containsNull = false)\n",
      " |-- num_items: long (nullable = false)\n",
      "\n"
     ]
    }
   ],
   "source": [
    "df_semi_structure.printSchema()"
   ]
  },
  {
   "cell_type": "code",
   "execution_count": 14,
   "metadata": {},
   "outputs": [
    {
     "name": "stdout",
     "output_type": "stream",
     "text": [
      "CPU times: user 4.51 ms, sys: 1.5 ms, total: 6.01 ms\n",
      "Wall time: 14.7 s\n"
     ]
    }
   ],
   "source": [
    "%%time\n",
    "output_json = os.path.join(base_path, \"json\", table_name)\n",
    "df_semi_structure.write.json(output_json, mode=\"overwrite\")"
   ]
  },
  {
   "cell_type": "code",
   "execution_count": null,
   "metadata": {},
   "outputs": [],
   "source": []
  },
  {
   "cell_type": "markdown",
   "metadata": {},
   "source": [
    "# Compare uncompressed/compressed files"
   ]
  },
  {
   "cell_type": "code",
   "execution_count": 15,
   "metadata": {},
   "outputs": [
    {
     "name": "stdout",
     "output_type": "stream",
     "text": [
      "CPU times: user 1.52 ms, sys: 3.32 ms, total: 4.84 ms\n",
      "Wall time: 11.8 s\n"
     ]
    },
    {
     "data": {
      "text/plain": [
       "11996782"
      ]
     },
     "execution_count": 15,
     "metadata": {},
     "output_type": "execute_result"
    }
   ],
   "source": [
    "%%time\n",
    "df_lineitem.count()"
   ]
  },
  {
   "cell_type": "code",
   "execution_count": 16,
   "metadata": {},
   "outputs": [
    {
     "name": "stdout",
     "output_type": "stream",
     "text": [
      "CPU times: user 0 ns, sys: 2.61 ms, total: 2.61 ms\n",
      "Wall time: 507 ms\n"
     ]
    },
    {
     "data": {
      "text/plain": [
       "11996782"
      ]
     },
     "execution_count": 16,
     "metadata": {},
     "output_type": "execute_result"
    }
   ],
   "source": [
    "%%time\n",
    "df_lineitem_compressed.count()"
   ]
  },
  {
   "cell_type": "code",
   "execution_count": null,
   "metadata": {
    "tags": []
   },
   "outputs": [],
   "source": []
  },
  {
   "cell_type": "markdown",
   "metadata": {},
   "source": [
    "# Cached vs non-cached"
   ]
  },
  {
   "cell_type": "code",
   "execution_count": 18,
   "metadata": {},
   "outputs": [
    {
     "name": "stdout",
     "output_type": "stream",
     "text": [
      "CPU times: user 9.15 ms, sys: 3.07 ms, total: 12.2 ms\n",
      "Wall time: 46.5 s\n"
     ]
    },
    {
     "data": {
      "text/plain": [
       "11996782"
      ]
     },
     "execution_count": 18,
     "metadata": {},
     "output_type": "execute_result"
    }
   ],
   "source": [
    "%%time\n",
    "df_lineitem.cache()\n",
    "df_lineitem.count()"
   ]
  },
  {
   "cell_type": "code",
   "execution_count": 19,
   "metadata": {},
   "outputs": [
    {
     "name": "stdout",
     "output_type": "stream",
     "text": [
      "CPU times: user 1.51 ms, sys: 514 µs, total: 2.02 ms\n",
      "Wall time: 250 ms\n"
     ]
    },
    {
     "data": {
      "text/plain": [
       "11996782"
      ]
     },
     "execution_count": 19,
     "metadata": {},
     "output_type": "execute_result"
    }
   ],
   "source": [
    "%%time\n",
    "df_lineitem.count()"
   ]
  },
  {
   "cell_type": "code",
   "execution_count": 20,
   "metadata": {},
   "outputs": [
    {
     "name": "stdout",
     "output_type": "stream",
     "text": [
      "CPU times: user 4.52 ms, sys: 1.53 ms, total: 6.05 ms\n",
      "Wall time: 12.9 s\n"
     ]
    },
    {
     "data": {
      "text/plain": [
       "11996782"
      ]
     },
     "execution_count": 20,
     "metadata": {},
     "output_type": "execute_result"
    }
   ],
   "source": [
    "%%time\n",
    "df_lineitem.unpersist()\n",
    "df_lineitem.count()"
   ]
  },
  {
   "cell_type": "code",
   "execution_count": 21,
   "metadata": {},
   "outputs": [
    {
     "name": "stdout",
     "output_type": "stream",
     "text": [
      "CPU times: user 6.17 ms, sys: 9.95 ms, total: 16.1 ms\n",
      "Wall time: 51.7 s\n"
     ]
    },
    {
     "data": {
      "text/plain": [
       "11996782"
      ]
     },
     "execution_count": 21,
     "metadata": {},
     "output_type": "execute_result"
    }
   ],
   "source": [
    "%%time\n",
    "df_lineitem.persist(StorageLevel.MEMORY_AND_DISK_2)\n",
    "df_lineitem.count()"
   ]
  },
  {
   "cell_type": "code",
   "execution_count": 23,
   "metadata": {},
   "outputs": [
    {
     "name": "stdout",
     "output_type": "stream",
     "text": [
      "CPU times: user 6.98 ms, sys: 6.01 ms, total: 13 ms\n",
      "Wall time: 47.7 s\n"
     ]
    },
    {
     "data": {
      "text/plain": [
       "11996782"
      ]
     },
     "execution_count": 23,
     "metadata": {},
     "output_type": "execute_result"
    }
   ],
   "source": [
    "%%time\n",
    "df_lineitem.unpersist()\n",
    "df_lineitem.persist(StorageLevel.DISK_ONLY)\n",
    "df_lineitem.count()"
   ]
  },
  {
   "cell_type": "code",
   "execution_count": 24,
   "metadata": {},
   "outputs": [
    {
     "name": "stdout",
     "output_type": "stream",
     "text": [
      "CPU times: user 1.56 ms, sys: 6 µs, total: 1.57 ms\n",
      "Wall time: 518 ms\n"
     ]
    },
    {
     "data": {
      "text/plain": [
       "11996782"
      ]
     },
     "execution_count": 24,
     "metadata": {},
     "output_type": "execute_result"
    }
   ],
   "source": [
    "%%time\n",
    "df_lineitem.count()"
   ]
  },
  {
   "cell_type": "code",
   "execution_count": null,
   "metadata": {},
   "outputs": [],
   "source": []
  },
  {
   "cell_type": "markdown",
   "metadata": {},
   "source": [
    "# Hive Metastore"
   ]
  },
  {
   "cell_type": "code",
   "execution_count": 25,
   "metadata": {},
   "outputs": [
    {
     "data": {
      "text/html": [
       "<div>\n",
       "<style scoped>\n",
       "    .dataframe tbody tr th:only-of-type {\n",
       "        vertical-align: middle;\n",
       "    }\n",
       "\n",
       "    .dataframe tbody tr th {\n",
       "        vertical-align: top;\n",
       "    }\n",
       "\n",
       "    .dataframe thead th {\n",
       "        text-align: right;\n",
       "    }\n",
       "</style>\n",
       "<table border=\"1\" class=\"dataframe\">\n",
       "  <thead>\n",
       "    <tr style=\"text-align: right;\">\n",
       "      <th></th>\n",
       "      <th>L_ORDERKEY</th>\n",
       "      <th>L_PARTKEY</th>\n",
       "      <th>L_SUPPKEY</th>\n",
       "      <th>L_LINENUMBER</th>\n",
       "      <th>L_QUANTITY</th>\n",
       "      <th>L_EXTENDEDPRICE</th>\n",
       "      <th>L_DISCOUNT</th>\n",
       "      <th>L_TAX</th>\n",
       "      <th>L_RETURNFLAG</th>\n",
       "      <th>L_LINESTATUS</th>\n",
       "      <th>L_SHIPDATE</th>\n",
       "      <th>L_COMMITDATE</th>\n",
       "      <th>L_RECEIPTDATE</th>\n",
       "      <th>L_SHIPINSTRUCT</th>\n",
       "      <th>L_SHIPMODE</th>\n",
       "      <th>L_COMMENT</th>\n",
       "    </tr>\n",
       "  </thead>\n",
       "  <tbody>\n",
       "    <tr>\n",
       "      <th>0</th>\n",
       "      <td>8582561</td>\n",
       "      <td>376604</td>\n",
       "      <td>11659</td>\n",
       "      <td>1</td>\n",
       "      <td>43</td>\n",
       "      <td>72265,37</td>\n",
       "      <td>0,07</td>\n",
       "      <td>0,04</td>\n",
       "      <td>R</td>\n",
       "      <td>F</td>\n",
       "      <td>15.04.92</td>\n",
       "      <td>28.03.92</td>\n",
       "      <td>25.04.92</td>\n",
       "      <td>COLLECT COD</td>\n",
       "      <td>AIR</td>\n",
       "      <td>carefully unusual foxes was</td>\n",
       "    </tr>\n",
       "    <tr>\n",
       "      <th>1</th>\n",
       "      <td>9332744</td>\n",
       "      <td>198681</td>\n",
       "      <td>3691</td>\n",
       "      <td>1</td>\n",
       "      <td>48</td>\n",
       "      <td>85424,64</td>\n",
       "      <td>0,09</td>\n",
       "      <td>0,07</td>\n",
       "      <td>R</td>\n",
       "      <td>F</td>\n",
       "      <td>06.04.92</td>\n",
       "      <td>10.04.92</td>\n",
       "      <td>12.04.92</td>\n",
       "      <td>TAKE BACK RETURN</td>\n",
       "      <td>MAIL</td>\n",
       "      <td>quickly even excuses impres</td>\n",
       "    </tr>\n",
       "    <tr>\n",
       "      <th>2</th>\n",
       "      <td>6162691</td>\n",
       "      <td>102019</td>\n",
       "      <td>2020</td>\n",
       "      <td>5</td>\n",
       "      <td>24</td>\n",
       "      <td>24504,24</td>\n",
       "      <td>0,04</td>\n",
       "      <td>0,03</td>\n",
       "      <td>R</td>\n",
       "      <td>F</td>\n",
       "      <td>25.02.92</td>\n",
       "      <td>12.03.92</td>\n",
       "      <td>29.02.92</td>\n",
       "      <td>COLLECT COD</td>\n",
       "      <td>RAIL</td>\n",
       "      <td>thinly ironic forges doze p</td>\n",
       "    </tr>\n",
       "    <tr>\n",
       "      <th>3</th>\n",
       "      <td>8564931</td>\n",
       "      <td>370250</td>\n",
       "      <td>5305</td>\n",
       "      <td>1</td>\n",
       "      <td>43</td>\n",
       "      <td>56770,32</td>\n",
       "      <td>0,07</td>\n",
       "      <td>0,04</td>\n",
       "      <td>A</td>\n",
       "      <td>F</td>\n",
       "      <td>19.03.92</td>\n",
       "      <td>02.03.92</td>\n",
       "      <td>29.03.92</td>\n",
       "      <td>COLLECT COD</td>\n",
       "      <td>AIR</td>\n",
       "      <td>carefully even foxes was qu</td>\n",
       "    </tr>\n",
       "    <tr>\n",
       "      <th>4</th>\n",
       "      <td>5014790</td>\n",
       "      <td>81292</td>\n",
       "      <td>11301</td>\n",
       "      <td>6</td>\n",
       "      <td>23</td>\n",
       "      <td>29285,67</td>\n",
       "      <td>0,09</td>\n",
       "      <td>0,03</td>\n",
       "      <td>A</td>\n",
       "      <td>F</td>\n",
       "      <td>18.01.92</td>\n",
       "      <td>08.03.92</td>\n",
       "      <td>20.01.92</td>\n",
       "      <td>NONE</td>\n",
       "      <td>AIR</td>\n",
       "      <td>carefully regular ideas hag</td>\n",
       "    </tr>\n",
       "  </tbody>\n",
       "</table>\n",
       "</div>"
      ],
      "text/plain": [
       "   L_ORDERKEY  L_PARTKEY  L_SUPPKEY  L_LINENUMBER  L_QUANTITY L_EXTENDEDPRICE  \\\n",
       "0     8582561     376604      11659             1          43        72265,37   \n",
       "1     9332744     198681       3691             1          48        85424,64   \n",
       "2     6162691     102019       2020             5          24        24504,24   \n",
       "3     8564931     370250       5305             1          43        56770,32   \n",
       "4     5014790      81292      11301             6          23        29285,67   \n",
       "\n",
       "  L_DISCOUNT L_TAX L_RETURNFLAG L_LINESTATUS L_SHIPDATE L_COMMITDATE  \\\n",
       "0       0,07  0,04            R            F   15.04.92     28.03.92   \n",
       "1       0,09  0,07            R            F   06.04.92     10.04.92   \n",
       "2       0,04  0,03            R            F   25.02.92     12.03.92   \n",
       "3       0,07  0,04            A            F   19.03.92     02.03.92   \n",
       "4       0,09  0,03            A            F   18.01.92     08.03.92   \n",
       "\n",
       "  L_RECEIPTDATE             L_SHIPINSTRUCT  L_SHIPMODE  \\\n",
       "0      25.04.92  COLLECT COD                AIR          \n",
       "1      12.04.92  TAKE BACK RETURN           MAIL         \n",
       "2      29.02.92  COLLECT COD                RAIL         \n",
       "3      29.03.92  COLLECT COD                AIR          \n",
       "4      20.01.92  NONE                       AIR          \n",
       "\n",
       "                     L_COMMENT  \n",
       "0  carefully unusual foxes was  \n",
       "1  quickly even excuses impres  \n",
       "2  thinly ironic forges doze p  \n",
       "3  carefully even foxes was qu  \n",
       "4  carefully regular ideas hag  "
      ]
     },
     "execution_count": 25,
     "metadata": {},
     "output_type": "execute_result"
    }
   ],
   "source": [
    "df_lineitem_compressed.limit(5).toPandas()"
   ]
  },
  {
   "cell_type": "code",
   "execution_count": 26,
   "metadata": {},
   "outputs": [],
   "source": [
    "# register temporary view\n",
    "table_name = \"h_lineitem\"\n",
    "df_lineitem_compressed.createOrReplaceTempView(table_name)"
   ]
  },
  {
   "cell_type": "code",
   "execution_count": 27,
   "metadata": {},
   "outputs": [
    {
     "name": "stdout",
     "output_type": "stream",
     "text": [
      "+---------+----------+-----------+\n",
      "|namespace| tableName|isTemporary|\n",
      "+---------+----------+-----------+\n",
      "|         |h_lineitem|      false|\n",
      "+---------+----------+-----------+\n",
      "\n"
     ]
    }
   ],
   "source": [
    "spark.sql(\"SHOW TABLES\").show()"
   ]
  },
  {
   "cell_type": "code",
   "execution_count": 28,
   "metadata": {},
   "outputs": [
    {
     "name": "stdout",
     "output_type": "stream",
     "text": [
      "+----------+---------+---------+------------+----------+---------------+----------+-----+------------+------------+----------+------------+-------------+--------------------+----------+--------------------+\n",
      "|L_ORDERKEY|L_PARTKEY|L_SUPPKEY|L_LINENUMBER|L_QUANTITY|L_EXTENDEDPRICE|L_DISCOUNT|L_TAX|L_RETURNFLAG|L_LINESTATUS|L_SHIPDATE|L_COMMITDATE|L_RECEIPTDATE|      L_SHIPINSTRUCT|L_SHIPMODE|           L_COMMENT|\n",
      "+----------+---------+---------+------------+----------+---------------+----------+-----+------------+------------+----------+------------+-------------+--------------------+----------+--------------------+\n",
      "|   8582561|   376604|    11659|           1|        43|       72265,37|      0,07| 0,04|           R|           F|  15.04.92|    28.03.92|     25.04.92|COLLECT COD      ...|AIR       |carefully unusual...|\n",
      "|   9332744|   198681|     3691|           1|        48|       85424,64|      0,09| 0,07|           R|           F|  06.04.92|    10.04.92|     12.04.92|TAKE BACK RETURN ...|MAIL      |quickly even excu...|\n",
      "|   6162691|   102019|     2020|           5|        24|       24504,24|      0,04| 0,03|           R|           F|  25.02.92|    12.03.92|     29.02.92|COLLECT COD      ...|RAIL      |thinly ironic for...|\n",
      "|   8564931|   370250|     5305|           1|        43|       56770,32|      0,07| 0,04|           A|           F|  19.03.92|    02.03.92|     29.03.92|COLLECT COD      ...|AIR       |carefully even fo...|\n",
      "|   5014790|    81292|    11301|           6|        23|       29285,67|      0,09| 0,03|           A|           F|  18.01.92|    08.03.92|     20.01.92|NONE             ...|AIR       |carefully regular...|\n",
      "+----------+---------+---------+------------+----------+---------------+----------+-----+------------+------------+----------+------------+-------------+--------------------+----------+--------------------+\n",
      "\n"
     ]
    }
   ],
   "source": [
    "spark.sql(\"SELECT * FROM h_lineitem LIMIT 5\").show()"
   ]
  },
  {
   "cell_type": "code",
   "execution_count": null,
   "metadata": {},
   "outputs": [],
   "source": []
  },
  {
   "cell_type": "markdown",
   "metadata": {},
   "source": [
    "# Dataframe transformation"
   ]
  },
  {
   "cell_type": "markdown",
   "metadata": {},
   "source": [
    "## SELECT"
   ]
  },
  {
   "cell_type": "code",
   "execution_count": 29,
   "metadata": {},
   "outputs": [
    {
     "name": "stdout",
     "output_type": "stream",
     "text": [
      "+----------+------------+----------+\n",
      "|L_ORDERKEY|L_LINENUMBER|L_QUANTITY|\n",
      "+----------+------------+----------+\n",
      "|   8582561|           1|        43|\n",
      "|   9332744|           1|        48|\n",
      "|   6162691|           5|        24|\n",
      "|   8564931|           1|        43|\n",
      "|   5014790|           6|        23|\n",
      "+----------+------------+----------+\n",
      "only showing top 5 rows\n",
      "\n"
     ]
    }
   ],
   "source": [
    "df_lineitem_compressed.select(\"L_ORDERKEY\", \"L_LINENUMBER\", \"L_QUANTITY\").show(5)"
   ]
  },
  {
   "cell_type": "code",
   "execution_count": 30,
   "metadata": {},
   "outputs": [
    {
     "name": "stdout",
     "output_type": "stream",
     "text": [
      "+----------+------------+----------+\n",
      "|L_ORDERKEY|L_LINENUMBER|L_QUANTITY|\n",
      "+----------+------------+----------+\n",
      "|   8582561|           1|        43|\n",
      "|   9332744|           1|        48|\n",
      "|   6162691|           5|        24|\n",
      "|   8564931|           1|        43|\n",
      "|   5014790|           6|        23|\n",
      "+----------+------------+----------+\n",
      "only showing top 5 rows\n",
      "\n"
     ]
    }
   ],
   "source": [
    "ls_selected_cols = [\"L_ORDERKEY\", \"L_LINENUMBER\", \"L_QUANTITY\"]\n",
    "df_lineitem_compressed.select(ls_selected_cols).show(5)"
   ]
  },
  {
   "cell_type": "code",
   "execution_count": 31,
   "metadata": {},
   "outputs": [
    {
     "name": "stdout",
     "output_type": "stream",
     "text": [
      "+--------+-------+--------+\n",
      "|order_no|line_no|quantity|\n",
      "+--------+-------+--------+\n",
      "| 8582561|      1|      43|\n",
      "| 9332744|      1|      48|\n",
      "| 6162691|      5|      24|\n",
      "| 8564931|      1|      43|\n",
      "| 5014790|      6|      23|\n",
      "+--------+-------+--------+\n",
      "only showing top 5 rows\n",
      "\n"
     ]
    }
   ],
   "source": [
    "df_lineitem_compressed.selectExpr(\"L_ORDERKEY AS order_no\", \"L_LINENUMBER AS line_no\", \"L_QUANTITY AS quantity\").show(5)"
   ]
  },
  {
   "cell_type": "markdown",
   "metadata": {},
   "source": [
    "## WHERE"
   ]
  },
  {
   "cell_type": "code",
   "execution_count": 32,
   "metadata": {},
   "outputs": [
    {
     "name": "stdout",
     "output_type": "stream",
     "text": [
      "+----------+---------+---------+------------+----------+---------------+----------+-----+------------+------------+----------+------------+-------------+--------------------+----------+--------------------+\n",
      "|L_ORDERKEY|L_PARTKEY|L_SUPPKEY|L_LINENUMBER|L_QUANTITY|L_EXTENDEDPRICE|L_DISCOUNT|L_TAX|L_RETURNFLAG|L_LINESTATUS|L_SHIPDATE|L_COMMITDATE|L_RECEIPTDATE|      L_SHIPINSTRUCT|L_SHIPMODE|           L_COMMENT|\n",
      "+----------+---------+---------+------------+----------+---------------+----------+-----+------------+------------+----------+------------+-------------+--------------------+----------+--------------------+\n",
      "|   1090753|   291416|     1445|           2|        41|        57703,4|      0,08| 0,07|           A|           F|  03.01.93|    20.12.92|     24.01.93|NONE             ...|FOB       |bold requests try...|\n",
      "|   1090753|    91558|     6571|           6|        14|        21693,7|       0,1| 0,05|           R|           F|  16.12.92|    22.11.92|     12.01.93|DELIVER IN PERSON...|SHIP      |carefully unusual...|\n",
      "|   1090753|   215598|      609|           3|        14|       21190,12|      0,01|    0|           R|           F|  15.11.92|    19.11.92|     17.11.92|NONE             ...|FOB       |fluffily silent f...|\n",
      "|   1090753|   325061|     5062|           5|         4|         4344,2|      0,03| 0,05|           A|           F|  27.11.92|    20.12.92|     27.12.92|NONE             ...|AIR       |express accounts ...|\n",
      "|   1090753|   226447|    11459|           1|        45|       61804,35|      0,07| 0,04|           A|           F|  25.10.92|    02.01.93|     15.11.92|DELIVER IN PERSON...|REG AIR   |fluffily final co...|\n",
      "|   1090753|   348113|     3165|           4|        26|        30188,6|      0,04| 0,02|           A|           F|  29.12.92|    12.12.92|     12.01.93|DELIVER IN PERSON...|REG AIR   |blithely final pi...|\n",
      "+----------+---------+---------+------------+----------+---------------+----------+-----+------------+------------+----------+------------+-------------+--------------------+----------+--------------------+\n",
      "\n"
     ]
    }
   ],
   "source": [
    "df_lineitem_compressed.filter(\"L_ORDERKEY = 1090753\").show()"
   ]
  },
  {
   "cell_type": "code",
   "execution_count": 33,
   "metadata": {},
   "outputs": [
    {
     "name": "stdout",
     "output_type": "stream",
     "text": [
      "+----------+---------+---------+------------+----------+---------------+----------+-----+------------+------------+----------+------------+-------------+--------------------+----------+--------------------+\n",
      "|L_ORDERKEY|L_PARTKEY|L_SUPPKEY|L_LINENUMBER|L_QUANTITY|L_EXTENDEDPRICE|L_DISCOUNT|L_TAX|L_RETURNFLAG|L_LINESTATUS|L_SHIPDATE|L_COMMITDATE|L_RECEIPTDATE|      L_SHIPINSTRUCT|L_SHIPMODE|           L_COMMENT|\n",
      "+----------+---------+---------+------------+----------+---------------+----------+-----+------------+------------+----------+------------+-------------+--------------------+----------+--------------------+\n",
      "|   1090753|   291416|     1445|           2|        41|        57703,4|      0,08| 0,07|           A|           F|  03.01.93|    20.12.92|     24.01.93|NONE             ...|FOB       |bold requests try...|\n",
      "|   1090753|   215598|      609|           3|        14|       21190,12|      0,01|    0|           R|           F|  15.11.92|    19.11.92|     17.11.92|NONE             ...|FOB       |fluffily silent f...|\n",
      "|   1090753|   226447|    11459|           1|        45|       61804,35|      0,07| 0,04|           A|           F|  25.10.92|    02.01.93|     15.11.92|DELIVER IN PERSON...|REG AIR   |fluffily final co...|\n",
      "+----------+---------+---------+------------+----------+---------------+----------+-----+------------+------------+----------+------------+-------------+--------------------+----------+--------------------+\n",
      "\n"
     ]
    }
   ],
   "source": [
    "df_lineitem_compressed.where(\"L_ORDERKEY = 1090753 AND L_LINENUMBER < 4\").show()"
   ]
  },
  {
   "cell_type": "code",
   "execution_count": 34,
   "metadata": {},
   "outputs": [
    {
     "name": "stdout",
     "output_type": "stream",
     "text": [
      "+----------+---------+---------+------------+----------+---------------+----------+-----+------------+------------+----------+------------+-------------+--------------------+----------+--------------------+\n",
      "|L_ORDERKEY|L_PARTKEY|L_SUPPKEY|L_LINENUMBER|L_QUANTITY|L_EXTENDEDPRICE|L_DISCOUNT|L_TAX|L_RETURNFLAG|L_LINESTATUS|L_SHIPDATE|L_COMMITDATE|L_RECEIPTDATE|      L_SHIPINSTRUCT|L_SHIPMODE|           L_COMMENT|\n",
      "+----------+---------+---------+------------+----------+---------------+----------+-----+------------+------------+----------+------------+-------------+--------------------+----------+--------------------+\n",
      "|   1090753|   291416|     1445|           2|        41|        57703,4|      0,08| 0,07|           A|           F|  03.01.93|    20.12.92|     24.01.93|NONE             ...|FOB       |bold requests try...|\n",
      "|   1090753|   215598|      609|           3|        14|       21190,12|      0,01|    0|           R|           F|  15.11.92|    19.11.92|     17.11.92|NONE             ...|FOB       |fluffily silent f...|\n",
      "|   1090753|   226447|    11459|           1|        45|       61804,35|      0,07| 0,04|           A|           F|  25.10.92|    02.01.93|     15.11.92|DELIVER IN PERSON...|REG AIR   |fluffily final co...|\n",
      "+----------+---------+---------+------------+----------+---------------+----------+-----+------------+------------+----------+------------+-------------+--------------------+----------+--------------------+\n",
      "\n"
     ]
    }
   ],
   "source": [
    "df_lineitem_compressed.where((F.col(\"L_ORDERKEY\") == 1090753) & (F.col(\"L_LINENUMBER\") < F.lit(4))).show()"
   ]
  },
  {
   "cell_type": "markdown",
   "metadata": {},
   "source": [
    "## ORDER BY"
   ]
  },
  {
   "cell_type": "code",
   "execution_count": 35,
   "metadata": {},
   "outputs": [
    {
     "name": "stdout",
     "output_type": "stream",
     "text": [
      "+----------+---------+---------+------------+----------+---------------+----------+-----+------------+------------+----------+------------+-------------+--------------------+----------+--------------------+\n",
      "|L_ORDERKEY|L_PARTKEY|L_SUPPKEY|L_LINENUMBER|L_QUANTITY|L_EXTENDEDPRICE|L_DISCOUNT|L_TAX|L_RETURNFLAG|L_LINESTATUS|L_SHIPDATE|L_COMMITDATE|L_RECEIPTDATE|      L_SHIPINSTRUCT|L_SHIPMODE|           L_COMMENT|\n",
      "+----------+---------+---------+------------+----------+---------------+----------+-----+------------+------------+----------+------------+-------------+--------------------+----------+--------------------+\n",
      "|   1090753|   226447|    11459|           1|        45|       61804,35|      0,07| 0,04|           A|           F|  25.10.92|    02.01.93|     15.11.92|DELIVER IN PERSON...|REG AIR   |fluffily final co...|\n",
      "|   1090753|   291416|     1445|           2|        41|        57703,4|      0,08| 0,07|           A|           F|  03.01.93|    20.12.92|     24.01.93|NONE             ...|FOB       |bold requests try...|\n",
      "|   1090753|   215598|      609|           3|        14|       21190,12|      0,01|    0|           R|           F|  15.11.92|    19.11.92|     17.11.92|NONE             ...|FOB       |fluffily silent f...|\n",
      "+----------+---------+---------+------------+----------+---------------+----------+-----+------------+------------+----------+------------+-------------+--------------------+----------+--------------------+\n",
      "\n"
     ]
    }
   ],
   "source": [
    "df_filtered = df_lineitem_compressed.where(\"L_ORDERKEY = 1090753 AND L_LINENUMBER < 4\")\n",
    "df_filtered.orderBy(\"L_LINENUMBER\").show()"
   ]
  },
  {
   "cell_type": "code",
   "execution_count": 36,
   "metadata": {},
   "outputs": [
    {
     "name": "stdout",
     "output_type": "stream",
     "text": [
      "+----------+---------+---------+------------+----------+---------------+----------+-----+------------+------------+----------+------------+-------------+--------------------+----------+--------------------+\n",
      "|L_ORDERKEY|L_PARTKEY|L_SUPPKEY|L_LINENUMBER|L_QUANTITY|L_EXTENDEDPRICE|L_DISCOUNT|L_TAX|L_RETURNFLAG|L_LINESTATUS|L_SHIPDATE|L_COMMITDATE|L_RECEIPTDATE|      L_SHIPINSTRUCT|L_SHIPMODE|           L_COMMENT|\n",
      "+----------+---------+---------+------------+----------+---------------+----------+-----+------------+------------+----------+------------+-------------+--------------------+----------+--------------------+\n",
      "|   1090753|   215598|      609|           3|        14|       21190,12|      0,01|    0|           R|           F|  15.11.92|    19.11.92|     17.11.92|NONE             ...|FOB       |fluffily silent f...|\n",
      "|   1090753|   291416|     1445|           2|        41|        57703,4|      0,08| 0,07|           A|           F|  03.01.93|    20.12.92|     24.01.93|NONE             ...|FOB       |bold requests try...|\n",
      "|   1090753|   226447|    11459|           1|        45|       61804,35|      0,07| 0,04|           A|           F|  25.10.92|    02.01.93|     15.11.92|DELIVER IN PERSON...|REG AIR   |fluffily final co...|\n",
      "+----------+---------+---------+------------+----------+---------------+----------+-----+------------+------------+----------+------------+-------------+--------------------+----------+--------------------+\n",
      "\n"
     ]
    }
   ],
   "source": [
    "df_filtered.orderBy(\"L_LINENUMBER\", ascending=False).show()"
   ]
  },
  {
   "cell_type": "markdown",
   "metadata": {},
   "source": [
    "## New columns"
   ]
  },
  {
   "cell_type": "code",
   "execution_count": 37,
   "metadata": {},
   "outputs": [
    {
     "name": "stdout",
     "output_type": "stream",
     "text": [
      "+--------+-------+---------------+--------+\n",
      "|order_no|line_no|L_EXTENDEDPRICE|quantity|\n",
      "+--------+-------+---------------+--------+\n",
      "| 1090753|      2|        57703,4|      41|\n",
      "| 1090753|      6|        21693,7|      14|\n",
      "| 1090753|      3|       21190,12|      14|\n",
      "| 1090753|      5|         4344,2|       4|\n",
      "| 1090753|      1|       61804,35|      45|\n",
      "| 1090753|      4|        30188,6|      26|\n",
      "+--------+-------+---------------+--------+\n",
      "\n"
     ]
    }
   ],
   "source": [
    "df_filtered = df_lineitem_compressed.where(\"L_ORDERKEY = 1090753\")\n",
    "df_filtered = df_filtered.selectExpr(\"L_ORDERKEY AS order_no\", \"L_LINENUMBER AS line_no\", \"L_EXTENDEDPRICE\", \"CAST(L_QUANTITY AS INT) AS quantity\")\n",
    "df_filtered.show()"
   ]
  },
  {
   "cell_type": "code",
   "execution_count": 38,
   "metadata": {},
   "outputs": [
    {
     "name": "stdout",
     "output_type": "stream",
     "text": [
      "+--------+-------+---------------+--------+--------+\n",
      "|order_no|line_no|L_EXTENDEDPRICE|quantity|  amount|\n",
      "+--------+-------+---------------+--------+--------+\n",
      "| 1090753|      2|        57703,4|      41| 57703.4|\n",
      "| 1090753|      6|        21693,7|      14| 21693.7|\n",
      "| 1090753|      3|       21190,12|      14|21190.12|\n",
      "| 1090753|      5|         4344,2|       4|  4344.2|\n",
      "| 1090753|      1|       61804,35|      45|61804.35|\n",
      "| 1090753|      4|        30188,6|      26| 30188.6|\n",
      "+--------+-------+---------------+--------+--------+\n",
      "\n"
     ]
    }
   ],
   "source": [
    "df_filtered = df_filtered.withColumn(\"amount\", F.regexp_replace(\"L_EXTENDEDPRICE\", \",\", \".\").cast(FloatType()))\n",
    "df_filtered.show()"
   ]
  },
  {
   "cell_type": "code",
   "execution_count": 39,
   "metadata": {},
   "outputs": [
    {
     "name": "stdout",
     "output_type": "stream",
     "text": [
      "+--------+-------+---------------+--------+--------+-----------+\n",
      "|order_no|line_no|L_EXTENDEDPRICE|quantity|  amount|total_price|\n",
      "+--------+-------+---------------+--------+--------+-----------+\n",
      "| 1090753|      2|        57703,4|      41| 57703.4|  2365839.2|\n",
      "| 1090753|      6|        21693,7|      14| 21693.7|  303711.78|\n",
      "| 1090753|      3|       21190,12|      14|21190.12|  296661.66|\n",
      "| 1090753|      5|         4344,2|       4|  4344.2|    17376.8|\n",
      "| 1090753|      1|       61804,35|      45|61804.35|  2781195.8|\n",
      "| 1090753|      4|        30188,6|      26| 30188.6|  784903.56|\n",
      "+--------+-------+---------------+--------+--------+-----------+\n",
      "\n"
     ]
    }
   ],
   "source": [
    "df_filtered = df_filtered.withColumn(\"total_price\", F.col(\"amount\") * F.col(\"quantity\"))\n",
    "df_filtered.show()"
   ]
  },
  {
   "cell_type": "code",
   "execution_count": null,
   "metadata": {},
   "outputs": [],
   "source": []
  },
  {
   "cell_type": "markdown",
   "metadata": {},
   "source": [
    "## GROUP BY, AGG: sum(), min(), max(), avg()"
   ]
  },
  {
   "cell_type": "code",
   "execution_count": 40,
   "metadata": {},
   "outputs": [
    {
     "name": "stdout",
     "output_type": "stream",
     "text": [
      "+--------+---------+---------+------------------+----------------+---------+------------------+\n",
      "|order_no|min_price|max_price|         avg_price|     total_price|num_items|  values_per_items|\n",
      "+--------+---------+---------+------------------+----------------+---------+------------------+\n",
      "| 1090753|  17376.8|2781195.8|1091614.8001302083|6549688.80078125|        6|1091614.8001302083|\n",
      "+--------+---------+---------+------------------+----------------+---------+------------------+\n",
      "\n"
     ]
    }
   ],
   "source": [
    "df_agg = (\n",
    "    df_filtered.groupBy(\"order_no\")\n",
    "    .agg(\n",
    "        F.min(\"total_price\").alias(\"min_price\"),\n",
    "        F.max(\"total_price\").alias(\"max_price\"),\n",
    "        F.avg(\"total_price\").alias(\"avg_price\"),\n",
    "        F.sum(\"total_price\").alias(\"total_price\"),\n",
    "        F.count(\"line_no\").alias(\"num_items\")\n",
    "    )\n",
    ")\n",
    "\n",
    "df_agg = df_agg.selectExpr([\"*\"] + [\"(total_price / num_items) AS values_per_items\"])\n",
    "df_agg.show()"
   ]
  },
  {
   "cell_type": "code",
   "execution_count": null,
   "metadata": {},
   "outputs": [],
   "source": []
  }
 ],
 "metadata": {
  "kernelspec": {
   "display_name": "Python 3 (ipykernel)",
   "language": "python",
   "name": "python3"
  },
  "language_info": {
   "codemirror_mode": {
    "name": "ipython",
    "version": 3
   },
   "file_extension": ".py",
   "mimetype": "text/x-python",
   "name": "python",
   "nbconvert_exporter": "python",
   "pygments_lexer": "ipython3",
   "version": "3.9.13"
  },
  "name": "04_spark_essentials",
  "notebookId": 1227613790179004
 },
 "nbformat": 4,
 "nbformat_minor": 4
}
